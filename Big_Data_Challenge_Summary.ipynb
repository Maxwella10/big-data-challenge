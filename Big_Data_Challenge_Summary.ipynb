{
 "cells": [
  {
   "cell_type": "markdown",
   "id": "6e682b3a",
   "metadata": {},
   "source": [
    "# Big Data Challenge Analysis Summary."
   ]
  },
  {
   "cell_type": "markdown",
   "id": "1e809b88",
   "metadata": {},
   "source": [
    "#### Level-1 Luggage Review.\n",
    "\n",
    "\n",
    "1.) Total count of rows in the Dataframe =  348,657, After dropping duplicates the total becomes 348,613.\n",
    "\n",
    "\n",
    "2.) Total number of customers = 348,613.\n",
    "\n",
    "\n",
    "3.) Customers with the most review ( customer_id : 12640280 has the highest reviews with total of 63) and customers with the least review ( customer_id = 24741156 has the least review with total of 1).\n",
    "\n",
    "\n",
    "4.) Total number of products = 348,613 and after dropping duplicates the total number becomes 64,584.\n",
    "\n",
    "\n",
    "5.) Products with most review ( product_id: B004C0VKP8 has the highest review with the product_title : \"zzzzz Heys American Sidewinder 30 degree Spinner\".\n",
    "\n",
    "\n",
    "6.) Products with the least review ( product_id : B0076DGZEY has the least review with product_title : \"100% Authentic Michael Kors Crossbody Messenger swing Bag\".\n",
    "\n",
    "\n",
    "7.) For Vine reviews :  total_votes = 847,702 and helpful_votes = 719,327\n",
    "\n",
    "      Percentage Accuracy = 719,327/847,702 * 100 = 84.9% \n",
    "\n",
    "8.) Vine reviews are trustworthy from the above analysis though not perfect.\n",
    "\n"
   ]
  },
  {
   "cell_type": "markdown",
   "id": "165cba6b",
   "metadata": {},
   "source": [
    "####  Level-2 Kitchen Review\n",
    "\n",
    "\n",
    "1.) Total count of rows in a Dataframe = 4,880,466, After dropping duplicates the total becomes 4,879,961.\n",
    "\n",
    "\n",
    "2.) Total number of customers = 4,879,961.\n",
    "\n",
    "\n",
    "3.) Customers with the most review ( customer_id : 53037408 has the highest reviews with total of 429) and customers with the least review ( customer_id = 19891078 has the least review with total of 1).\n",
    "\n",
    "\n",
    "\n",
    "4.) Total number of products = 4,879,961 and after dropping duplicates the total number becomes 433,443.\n",
    "\n",
    "\n",
    "\n",
    "\n",
    "5.) Products with most review ( product_id: B00U3WJTP2 has the highest review with the product_title : \"Nara Bento Handmade Wooden Japanese Bento Box\".\n",
    "\n",
    "\n",
    "\n",
    "\n",
    "6.) Products with the least review ( product_id : B002E9XQKG has the least review with product_title : \"-\" or None.\n",
    "\n",
    "\n",
    "\n",
    "7.) For Vine reviews :  total_votes = 13,061,921 and helpful_votes = 10,957,638\n",
    "\n",
    "      Percentage Accuracy = 10,957,638/13,061,921 * 100 = 83.9%\n",
    "      \n",
    "      \n",
    "\n",
    "8.) Vine reviews are trustworthy from the above analysis though not perfect.\n",
    "\n",
    "\n",
    "\n",
    "\n"
   ]
  },
  {
   "cell_type": "markdown",
   "id": "ccff3540",
   "metadata": {},
   "source": [
    "#####  Amazon luggage Review is slightly trustworthy to Amazon Review"
   ]
  },
  {
   "cell_type": "code",
   "execution_count": null,
   "id": "2a95fde5",
   "metadata": {},
   "outputs": [],
   "source": []
  }
 ],
 "metadata": {
  "kernelspec": {
   "display_name": "Python 3 (ipykernel)",
   "language": "python",
   "name": "python3"
  },
  "language_info": {
   "codemirror_mode": {
    "name": "ipython",
    "version": 3
   },
   "file_extension": ".py",
   "mimetype": "text/x-python",
   "name": "python",
   "nbconvert_exporter": "python",
   "pygments_lexer": "ipython3",
   "version": "3.9.12"
  }
 },
 "nbformat": 4,
 "nbformat_minor": 5
}
